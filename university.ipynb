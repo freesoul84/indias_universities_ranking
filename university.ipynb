{
 "cells": [
  {
   "cell_type": "markdown",
   "metadata": {},
   "source": [
    "## code for scrapying Indian Universities Ranking "
   ]
  },
  {
   "cell_type": "code",
   "execution_count": 30,
   "metadata": {
    "scrolled": false
   },
   "outputs": [
    {
     "name": "stdout",
     "output_type": "stream",
     "text": [
      "process start...........\n",
      "successful.......\n"
     ]
    }
   ],
   "source": [
    "#importing of all libraries\n",
    "from bs4 import BeautifulSoup\n",
    "import requests\n",
    "import pandas as pd\n",
    "from urllib.parse import urlparse\n",
    "\n",
    "#directory\n",
    "directory=\"india_university\"\n",
    "\n",
    "#function for scrapying data\n",
    "def create_csv_file():\n",
    "    #weblink\n",
    "    value = 'http://www.webometrics.info/en/Asia/India'\n",
    "    \n",
    "    #flag set\n",
    "    flag=True\n",
    "    \n",
    "    #dataframe for making table \n",
    "    india_university = pd.DataFrame()\n",
    "    \n",
    "    #print(\"indian_unversities :\" ,india_university.head())\n",
    "    \n",
    "    while flag:\n",
    "        #print(value)\n",
    "        \n",
    "        page_request=requests.get(value)\n",
    "            \n",
    "        search_page = BeautifulSoup(page_request.content,'html.parser')\n",
    "        \n",
    "        elements=search_page.find('table',class_='sticky-enabled')\n",
    "       \n",
    "        rows = elements.find_all('tr')\n",
    "        \n",
    "        data=[]\n",
    "        \n",
    "        #fetching of each row in column\n",
    "        for row in rows:\n",
    "            \n",
    "            cols = row.find_all('td')\n",
    "            \n",
    "            v=[ele.text.strip() for ele in cols]\n",
    "            \n",
    "            cols =[ele.text.strip() for ele in cols]\n",
    "            \n",
    "            data.append([ele for ele in cols if ele])\n",
    "            \n",
    "            #print(cols)\n",
    "            \n",
    "            cols=pd.Series(cols)\n",
    "            \n",
    "            india_university=india_university.append(cols,ignore_index=True)\n",
    "       \n",
    "        nextpage_p=search_page.find('ul',class_='pager')\n",
    "        \n",
    "        if nextpage_p: \n",
    "            \n",
    "            next_page = nextpage_p.find('li',class_= 'pager-next')\n",
    "            #print(\"\\n\")\n",
    "            if next_page:\n",
    "                \n",
    "                url=\"http://www.webometrics.info\"\n",
    "                \n",
    "                value=url+next_page.a['href']\n",
    "                \n",
    "            else:\n",
    "                \n",
    "                break\n",
    "                \n",
    "                flag=False\n",
    "    \n",
    "    india_university.to_csv(\"output.csv\", index=False,sep='\\t')\n",
    "    \n",
    "\n",
    "#executing above functions\n",
    "if __name__ == '__main__':\n",
    "    \n",
    "    print(\"process start...........\")\n",
    "    #function calling\n",
    "    create_csv_file()\n",
    "    \n",
    "    #preprocessing\n",
    "    india_universitys=pd.read_csv(\"output.csv\",delimiter='\\t')\n",
    "    india_universitys.columns = ['ranking', 'world_rank','university','detail','presence_rank','impact_rank','openness_rank','excellence_rank']\n",
    "    cols = india_universitys.columns[india_universitys.isna().any()]\n",
    "    india_universitys.drop_duplicates(subset =\"ranking\",keep = False, inplace = True) \n",
    "    india_universitys=india_universitys.dropna(axis=1,how='all')\n",
    "    #print(india_universitys)\n",
    "    india_universitys=india_universitys.dropna(axis=0,how='all')\n",
    "    india_universitys.to_csv(\"output.csv\",index=False)\n",
    "    #print(cols)\n",
    "    \n",
    "    print(\"successful.......\")\n"
   ]
  },
  {
   "cell_type": "code",
   "execution_count": null,
   "metadata": {
    "collapsed": true
   },
   "outputs": [],
   "source": []
  }
 ],
 "metadata": {
  "kernelspec": {
   "display_name": "Python 3",
   "language": "python",
   "name": "python3"
  },
  "language_info": {
   "codemirror_mode": {
    "name": "ipython",
    "version": 3
   },
   "file_extension": ".py",
   "mimetype": "text/x-python",
   "name": "python",
   "nbconvert_exporter": "python",
   "pygments_lexer": "ipython3",
   "version": "3.5.2"
  },
  "toc": {
   "base_numbering": 1,
   "nav_menu": {},
   "number_sections": true,
   "sideBar": true,
   "skip_h1_title": false,
   "title_cell": "Table of Contents",
   "title_sidebar": "Contents",
   "toc_cell": false,
   "toc_position": {},
   "toc_section_display": true,
   "toc_window_display": false
  }
 },
 "nbformat": 4,
 "nbformat_minor": 2
}
